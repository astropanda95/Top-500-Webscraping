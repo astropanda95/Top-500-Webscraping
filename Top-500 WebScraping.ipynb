{
 "cells": [
  {
   "cell_type": "code",
   "execution_count": 152,
   "id": "242907c4",
   "metadata": {},
   "outputs": [],
   "source": [
    "#Importing relevant libraries\n",
    "import bs4\n",
    "from bs4 import BeautifulSoup\n",
    "import requests\n",
    "import pandas as pd\n",
    "import csv\n",
    "import matplotlib.pyplot as plt\n",
    "import seaborn as sns"
   ]
  },
  {
   "cell_type": "code",
   "execution_count": 145,
   "id": "cd7e1b7d",
   "metadata": {},
   "outputs": [],
   "source": [
    "#For Graphs\n",
    "%matplotlib inline"
   ]
  },
  {
   "cell_type": "code",
   "execution_count": 2,
   "id": "0780bc3b",
   "metadata": {},
   "outputs": [],
   "source": [
    "# Read the data from a URL\n",
    "url = requests.get(\"https://top500.org/statistics/sublist/\")\n",
    "\n",
    "# Parse the URL using Beautiful Soup library\n",
    "soup = BeautifulSoup(url.content,'html')"
   ]
  },
  {
   "cell_type": "code",
   "execution_count": 80,
   "id": "bebc77f8",
   "metadata": {},
   "outputs": [
    {
     "data": {
      "text/plain": [
       "35"
      ]
     },
     "execution_count": 80,
     "metadata": {},
     "output_type": "execute_result"
    }
   ],
   "source": [
    "# Open an output file for writing the csv data:\n",
    "filename=\"Assignment8_Kanaparthy.csv\"\n",
    "\n",
    "#Open the file in write mode\n",
    "f=open(filename,\"w\",newline='')\n",
    "csv_data = csv.writer(f,lineterminator='\\n')\n",
    "\n",
    "#Adding headers\n",
    "headers = \"Rank,System,Cores,Rmax,Rpeak,Power\\n\"\n",
    "f.write(headers)"
   ]
  },
  {
   "cell_type": "code",
   "execution_count": 81,
   "id": "51dd5027",
   "metadata": {},
   "outputs": [],
   "source": [
    "for record in soup.findAll('tr'):\n",
    "# Creating an empty variable to record the data\n",
    "        tbltxt = []\n",
    "# Adding table data to tbltxt and cleaning it\n",
    "        for data in record.findAll('td'):\n",
    "            tbltxt.append(data.text.replace('\\n',' '))\n",
    "        if tbltxt:    \n",
    "            csv_data = csv.writer(f)\n",
    "            csv_data.writerow(tbltxt)\n",
    "f.close()"
   ]
  },
  {
   "cell_type": "code",
   "execution_count": 82,
   "id": "414ba293",
   "metadata": {},
   "outputs": [],
   "source": [
    "#Populating csv data in a dataframe\n",
    "df=pd.read_csv('Assignment8_Kanaparthy.csv',index_col=False)"
   ]
  },
  {
   "cell_type": "code",
   "execution_count": 83,
   "id": "66b68087",
   "metadata": {},
   "outputs": [
    {
     "data": {
      "text/html": [
       "<div>\n",
       "<style scoped>\n",
       "    .dataframe tbody tr th:only-of-type {\n",
       "        vertical-align: middle;\n",
       "    }\n",
       "\n",
       "    .dataframe tbody tr th {\n",
       "        vertical-align: top;\n",
       "    }\n",
       "\n",
       "    .dataframe thead th {\n",
       "        text-align: right;\n",
       "    }\n",
       "</style>\n",
       "<table border=\"1\" class=\"dataframe\">\n",
       "  <thead>\n",
       "    <tr style=\"text-align: right;\">\n",
       "      <th></th>\n",
       "      <th>Rank</th>\n",
       "      <th>System</th>\n",
       "      <th>Cores</th>\n",
       "      <th>Rmax</th>\n",
       "      <th>Rpeak</th>\n",
       "      <th>Power</th>\n",
       "    </tr>\n",
       "  </thead>\n",
       "  <tbody>\n",
       "    <tr>\n",
       "      <th>0</th>\n",
       "      <td>1</td>\n",
       "      <td>Supercomputer Fugaku - Supercomputer Fugaku,...</td>\n",
       "      <td>7,630,848</td>\n",
       "      <td>442,010.0</td>\n",
       "      <td>537,212.0</td>\n",
       "      <td>29,899</td>\n",
       "    </tr>\n",
       "    <tr>\n",
       "      <th>1</th>\n",
       "      <td>2</td>\n",
       "      <td>Summit - IBM Power System AC922, IBM POWER9 ...</td>\n",
       "      <td>2,414,592</td>\n",
       "      <td>148,600.0</td>\n",
       "      <td>200,794.9</td>\n",
       "      <td>10,096</td>\n",
       "    </tr>\n",
       "    <tr>\n",
       "      <th>2</th>\n",
       "      <td>3</td>\n",
       "      <td>Sierra - IBM Power System AC922, IBM POWER9 ...</td>\n",
       "      <td>1,572,480</td>\n",
       "      <td>94,640.0</td>\n",
       "      <td>125,712.0</td>\n",
       "      <td>7,438</td>\n",
       "    </tr>\n",
       "    <tr>\n",
       "      <th>3</th>\n",
       "      <td>4</td>\n",
       "      <td>Sunway TaihuLight - Sunway MPP, Sunway SW260...</td>\n",
       "      <td>10,649,600</td>\n",
       "      <td>93,014.6</td>\n",
       "      <td>125,435.9</td>\n",
       "      <td>15,371</td>\n",
       "    </tr>\n",
       "    <tr>\n",
       "      <th>4</th>\n",
       "      <td>5</td>\n",
       "      <td>Perlmutter - HPE Cray EX235n, AMD EPYC 7763 ...</td>\n",
       "      <td>706,304</td>\n",
       "      <td>64,590.0</td>\n",
       "      <td>89,794.5</td>\n",
       "      <td>2,528</td>\n",
       "    </tr>\n",
       "    <tr>\n",
       "      <th>...</th>\n",
       "      <td>...</td>\n",
       "      <td>...</td>\n",
       "      <td>...</td>\n",
       "      <td>...</td>\n",
       "      <td>...</td>\n",
       "      <td>...</td>\n",
       "    </tr>\n",
       "    <tr>\n",
       "      <th>495</th>\n",
       "      <td>496</td>\n",
       "      <td>Internet Company T X1 - Lenovo RD450, Xeon E...</td>\n",
       "      <td>82,880</td>\n",
       "      <td>1,537.2</td>\n",
       "      <td>3,182.6</td>\n",
       "      <td>NaN</td>\n",
       "    </tr>\n",
       "    <tr>\n",
       "      <th>496</th>\n",
       "      <td>497</td>\n",
       "      <td>LANL CTS-1 Grizzly - Tundra Extreme Scale, X...</td>\n",
       "      <td>53,352</td>\n",
       "      <td>1,524.7</td>\n",
       "      <td>1,792.6</td>\n",
       "      <td>603</td>\n",
       "    </tr>\n",
       "    <tr>\n",
       "      <th>497</th>\n",
       "      <td>498</td>\n",
       "      <td>Lenovo HR650x, Xeon Gold 6133 20C 2.5GHz, 25G...</td>\n",
       "      <td>35,200</td>\n",
       "      <td>1,521.9</td>\n",
       "      <td>2,816.0</td>\n",
       "      <td>NaN</td>\n",
       "    </tr>\n",
       "    <tr>\n",
       "      <th>498</th>\n",
       "      <td>499</td>\n",
       "      <td>U1 - ThinkSystem SR650, Xeon Gold 6140 18C 2...</td>\n",
       "      <td>29,792</td>\n",
       "      <td>1,521.0</td>\n",
       "      <td>2,444.7</td>\n",
       "      <td>NaN</td>\n",
       "    </tr>\n",
       "    <tr>\n",
       "      <th>499</th>\n",
       "      <td>500</td>\n",
       "      <td>Inspur TS10000, Xeon Platinum 8160  24C 2.1GH...</td>\n",
       "      <td>34,400</td>\n",
       "      <td>1,511.0</td>\n",
       "      <td>2,987.5</td>\n",
       "      <td>NaN</td>\n",
       "    </tr>\n",
       "  </tbody>\n",
       "</table>\n",
       "<p>500 rows × 6 columns</p>\n",
       "</div>"
      ],
      "text/plain": [
       "     Rank                                             System       Cores  \\\n",
       "0       1    Supercomputer Fugaku - Supercomputer Fugaku,...   7,630,848   \n",
       "1       2    Summit - IBM Power System AC922, IBM POWER9 ...   2,414,592   \n",
       "2       3    Sierra - IBM Power System AC922, IBM POWER9 ...   1,572,480   \n",
       "3       4    Sunway TaihuLight - Sunway MPP, Sunway SW260...  10,649,600   \n",
       "4       5    Perlmutter - HPE Cray EX235n, AMD EPYC 7763 ...     706,304   \n",
       "..    ...                                                ...         ...   \n",
       "495   496    Internet Company T X1 - Lenovo RD450, Xeon E...      82,880   \n",
       "496   497    LANL CTS-1 Grizzly - Tundra Extreme Scale, X...      53,352   \n",
       "497   498   Lenovo HR650x, Xeon Gold 6133 20C 2.5GHz, 25G...      35,200   \n",
       "498   499    U1 - ThinkSystem SR650, Xeon Gold 6140 18C 2...      29,792   \n",
       "499   500   Inspur TS10000, Xeon Platinum 8160  24C 2.1GH...      34,400   \n",
       "\n",
       "          Rmax      Rpeak   Power  \n",
       "0    442,010.0  537,212.0  29,899  \n",
       "1    148,600.0  200,794.9  10,096  \n",
       "2     94,640.0  125,712.0   7,438  \n",
       "3     93,014.6  125,435.9  15,371  \n",
       "4     64,590.0   89,794.5   2,528  \n",
       "..         ...        ...     ...  \n",
       "495    1,537.2    3,182.6     NaN  \n",
       "496    1,524.7    1,792.6     603  \n",
       "497    1,521.9    2,816.0     NaN  \n",
       "498    1,521.0    2,444.7     NaN  \n",
       "499    1,511.0    2,987.5     NaN  \n",
       "\n",
       "[500 rows x 6 columns]"
      ]
     },
     "execution_count": 83,
     "metadata": {},
     "output_type": "execute_result"
    }
   ],
   "source": [
    "df"
   ]
  },
  {
   "cell_type": "code",
   "execution_count": 85,
   "id": "a27f81a6",
   "metadata": {},
   "outputs": [],
   "source": [
    "#Created a function to filter for US, China and Japan\n",
    "def country_string(country):\n",
    "    if 'japan' in country.lower():\n",
    "        return 'Japan'\n",
    "    elif 'united states' in country.lower():\n",
    "        return 'United States'\n",
    "    elif 'china' in country.lower():\n",
    "        return 'China'\n",
    "    else:\n",
    "        return ''"
   ]
  },
  {
   "cell_type": "code",
   "execution_count": 86,
   "id": "9903f96c",
   "metadata": {},
   "outputs": [],
   "source": [
    "#Creating a new column with US, China and Japan filtering\n",
    "df['Country']=(df['System'].apply(lambda x: country_string(x)))"
   ]
  },
  {
   "cell_type": "code",
   "execution_count": 87,
   "id": "e371301d",
   "metadata": {},
   "outputs": [
    {
     "data": {
      "text/html": [
       "<div>\n",
       "<style scoped>\n",
       "    .dataframe tbody tr th:only-of-type {\n",
       "        vertical-align: middle;\n",
       "    }\n",
       "\n",
       "    .dataframe tbody tr th {\n",
       "        vertical-align: top;\n",
       "    }\n",
       "\n",
       "    .dataframe thead th {\n",
       "        text-align: right;\n",
       "    }\n",
       "</style>\n",
       "<table border=\"1\" class=\"dataframe\">\n",
       "  <thead>\n",
       "    <tr style=\"text-align: right;\">\n",
       "      <th></th>\n",
       "      <th>Rank</th>\n",
       "      <th>System</th>\n",
       "      <th>Cores</th>\n",
       "      <th>Rmax</th>\n",
       "      <th>Rpeak</th>\n",
       "      <th>Power</th>\n",
       "      <th>Country</th>\n",
       "    </tr>\n",
       "  </thead>\n",
       "  <tbody>\n",
       "    <tr>\n",
       "      <th>0</th>\n",
       "      <td>1</td>\n",
       "      <td>Supercomputer Fugaku - Supercomputer Fugaku,...</td>\n",
       "      <td>7,630,848</td>\n",
       "      <td>442,010.0</td>\n",
       "      <td>537,212.0</td>\n",
       "      <td>29,899</td>\n",
       "      <td>Japan</td>\n",
       "    </tr>\n",
       "    <tr>\n",
       "      <th>1</th>\n",
       "      <td>2</td>\n",
       "      <td>Summit - IBM Power System AC922, IBM POWER9 ...</td>\n",
       "      <td>2,414,592</td>\n",
       "      <td>148,600.0</td>\n",
       "      <td>200,794.9</td>\n",
       "      <td>10,096</td>\n",
       "      <td>United States</td>\n",
       "    </tr>\n",
       "    <tr>\n",
       "      <th>2</th>\n",
       "      <td>3</td>\n",
       "      <td>Sierra - IBM Power System AC922, IBM POWER9 ...</td>\n",
       "      <td>1,572,480</td>\n",
       "      <td>94,640.0</td>\n",
       "      <td>125,712.0</td>\n",
       "      <td>7,438</td>\n",
       "      <td>United States</td>\n",
       "    </tr>\n",
       "    <tr>\n",
       "      <th>3</th>\n",
       "      <td>4</td>\n",
       "      <td>Sunway TaihuLight - Sunway MPP, Sunway SW260...</td>\n",
       "      <td>10,649,600</td>\n",
       "      <td>93,014.6</td>\n",
       "      <td>125,435.9</td>\n",
       "      <td>15,371</td>\n",
       "      <td>China</td>\n",
       "    </tr>\n",
       "    <tr>\n",
       "      <th>4</th>\n",
       "      <td>5</td>\n",
       "      <td>Perlmutter - HPE Cray EX235n, AMD EPYC 7763 ...</td>\n",
       "      <td>706,304</td>\n",
       "      <td>64,590.0</td>\n",
       "      <td>89,794.5</td>\n",
       "      <td>2,528</td>\n",
       "      <td>United States</td>\n",
       "    </tr>\n",
       "    <tr>\n",
       "      <th>...</th>\n",
       "      <td>...</td>\n",
       "      <td>...</td>\n",
       "      <td>...</td>\n",
       "      <td>...</td>\n",
       "      <td>...</td>\n",
       "      <td>...</td>\n",
       "      <td>...</td>\n",
       "    </tr>\n",
       "    <tr>\n",
       "      <th>495</th>\n",
       "      <td>496</td>\n",
       "      <td>Internet Company T X1 - Lenovo RD450, Xeon E...</td>\n",
       "      <td>82,880</td>\n",
       "      <td>1,537.2</td>\n",
       "      <td>3,182.6</td>\n",
       "      <td>NaN</td>\n",
       "      <td>China</td>\n",
       "    </tr>\n",
       "    <tr>\n",
       "      <th>496</th>\n",
       "      <td>497</td>\n",
       "      <td>LANL CTS-1 Grizzly - Tundra Extreme Scale, X...</td>\n",
       "      <td>53,352</td>\n",
       "      <td>1,524.7</td>\n",
       "      <td>1,792.6</td>\n",
       "      <td>603</td>\n",
       "      <td>United States</td>\n",
       "    </tr>\n",
       "    <tr>\n",
       "      <th>497</th>\n",
       "      <td>498</td>\n",
       "      <td>Lenovo HR650x, Xeon Gold 6133 20C 2.5GHz, 25G...</td>\n",
       "      <td>35,200</td>\n",
       "      <td>1,521.9</td>\n",
       "      <td>2,816.0</td>\n",
       "      <td>NaN</td>\n",
       "      <td>China</td>\n",
       "    </tr>\n",
       "    <tr>\n",
       "      <th>498</th>\n",
       "      <td>499</td>\n",
       "      <td>U1 - ThinkSystem SR650, Xeon Gold 6140 18C 2...</td>\n",
       "      <td>29,792</td>\n",
       "      <td>1,521.0</td>\n",
       "      <td>2,444.7</td>\n",
       "      <td>NaN</td>\n",
       "      <td>China</td>\n",
       "    </tr>\n",
       "    <tr>\n",
       "      <th>499</th>\n",
       "      <td>500</td>\n",
       "      <td>Inspur TS10000, Xeon Platinum 8160  24C 2.1GH...</td>\n",
       "      <td>34,400</td>\n",
       "      <td>1,511.0</td>\n",
       "      <td>2,987.5</td>\n",
       "      <td>NaN</td>\n",
       "      <td>China</td>\n",
       "    </tr>\n",
       "  </tbody>\n",
       "</table>\n",
       "<p>344 rows × 7 columns</p>\n",
       "</div>"
      ],
      "text/plain": [
       "     Rank                                             System       Cores  \\\n",
       "0       1    Supercomputer Fugaku - Supercomputer Fugaku,...   7,630,848   \n",
       "1       2    Summit - IBM Power System AC922, IBM POWER9 ...   2,414,592   \n",
       "2       3    Sierra - IBM Power System AC922, IBM POWER9 ...   1,572,480   \n",
       "3       4    Sunway TaihuLight - Sunway MPP, Sunway SW260...  10,649,600   \n",
       "4       5    Perlmutter - HPE Cray EX235n, AMD EPYC 7763 ...     706,304   \n",
       "..    ...                                                ...         ...   \n",
       "495   496    Internet Company T X1 - Lenovo RD450, Xeon E...      82,880   \n",
       "496   497    LANL CTS-1 Grizzly - Tundra Extreme Scale, X...      53,352   \n",
       "497   498   Lenovo HR650x, Xeon Gold 6133 20C 2.5GHz, 25G...      35,200   \n",
       "498   499    U1 - ThinkSystem SR650, Xeon Gold 6140 18C 2...      29,792   \n",
       "499   500   Inspur TS10000, Xeon Platinum 8160  24C 2.1GH...      34,400   \n",
       "\n",
       "          Rmax      Rpeak   Power        Country  \n",
       "0    442,010.0  537,212.0  29,899          Japan  \n",
       "1    148,600.0  200,794.9  10,096  United States  \n",
       "2     94,640.0  125,712.0   7,438  United States  \n",
       "3     93,014.6  125,435.9  15,371          China  \n",
       "4     64,590.0   89,794.5   2,528  United States  \n",
       "..         ...        ...     ...            ...  \n",
       "495    1,537.2    3,182.6     NaN          China  \n",
       "496    1,524.7    1,792.6     603  United States  \n",
       "497    1,521.9    2,816.0     NaN          China  \n",
       "498    1,521.0    2,444.7     NaN          China  \n",
       "499    1,511.0    2,987.5     NaN          China  \n",
       "\n",
       "[344 rows x 7 columns]"
      ]
     },
     "execution_count": 87,
     "metadata": {},
     "output_type": "execute_result"
    }
   ],
   "source": [
    "#Creating a dataframe with only US, China and Japan\n",
    "df2=df[df['Country'] != \"\"]\n",
    "df2"
   ]
  },
  {
   "cell_type": "code",
   "execution_count": 23,
   "id": "32600adb",
   "metadata": {},
   "outputs": [],
   "source": [
    "#Creating a new CSV file with country data\n",
    "new_filename = \"Assignment8_Kanaparthy_country.csv\"\n",
    "f2 = open(new_filename, \"w\")"
   ]
  },
  {
   "cell_type": "code",
   "execution_count": 88,
   "id": "fbbb249f",
   "metadata": {},
   "outputs": [],
   "source": [
    "#Exporting data to csv\n",
    "df2.to_csv('Assignment8_Kanaparthy_country.csv')\n",
    "f2.close()"
   ]
  },
  {
   "cell_type": "code",
   "execution_count": 89,
   "id": "b6c96a56",
   "metadata": {},
   "outputs": [
    {
     "data": {
      "text/plain": [
       "Rank        int64\n",
       "System     object\n",
       "Cores      object\n",
       "Rmax       object\n",
       "Rpeak      object\n",
       "Power      object\n",
       "Country    object\n",
       "dtype: object"
      ]
     },
     "execution_count": 89,
     "metadata": {},
     "output_type": "execute_result"
    }
   ],
   "source": [
    "#Checking the datatypes\n",
    "df2.dtypes"
   ]
  },
  {
   "cell_type": "code",
   "execution_count": 125,
   "id": "deedd12c",
   "metadata": {},
   "outputs": [],
   "source": [
    "#Calling the data to a new dataframe to do conversions\n",
    "new_data = pd.read_csv(\"Assignment8_Kanaparthy_country.csv\", sep=\",\", encoding='mac_roman')"
   ]
  },
  {
   "cell_type": "code",
   "execution_count": 132,
   "id": "811c043f",
   "metadata": {},
   "outputs": [],
   "source": [
    "new_data.drop('Unnamed: 0', axis=1, inplace=True)"
   ]
  },
  {
   "cell_type": "code",
   "execution_count": 126,
   "id": "960da332",
   "metadata": {},
   "outputs": [],
   "source": [
    "#Convert the objects to float and string respectively\n",
    "new_data['Cores'] = new_data.Cores.str.replace(',', '').astype(float)\n",
    "new_data['Rmax'] = new_data.Rmax.str.replace(',', '').astype(float)\n",
    "new_data['Rpeak'] = new_data.Rpeak.str.replace(',', '').astype(float)\n",
    "new_data['Power'] = new_data.Power.str.replace(',', '').astype(float)\n",
    "new_data['System'] = new_data.System.str.replace(',', '').astype('string')\n",
    "new_data['Country'] = new_data.Country.str.replace(',', '').astype('string')"
   ]
  },
  {
   "cell_type": "code",
   "execution_count": 133,
   "id": "17127528",
   "metadata": {},
   "outputs": [
    {
     "data": {
      "text/plain": [
       "Rank         int64\n",
       "System      string\n",
       "Cores      float64\n",
       "Rmax       float64\n",
       "Rpeak      float64\n",
       "Power      float64\n",
       "Country     string\n",
       "dtype: object"
      ]
     },
     "execution_count": 133,
     "metadata": {},
     "output_type": "execute_result"
    }
   ],
   "source": [
    "#Verifying the changes to datatypes\n",
    "new_data.dtypes"
   ]
  },
  {
   "cell_type": "code",
   "execution_count": 134,
   "id": "092fb6f1",
   "metadata": {},
   "outputs": [
    {
     "data": {
      "text/html": [
       "<div>\n",
       "<style scoped>\n",
       "    .dataframe tbody tr th:only-of-type {\n",
       "        vertical-align: middle;\n",
       "    }\n",
       "\n",
       "    .dataframe tbody tr th {\n",
       "        vertical-align: top;\n",
       "    }\n",
       "\n",
       "    .dataframe thead th {\n",
       "        text-align: right;\n",
       "    }\n",
       "</style>\n",
       "<table border=\"1\" class=\"dataframe\">\n",
       "  <thead>\n",
       "    <tr style=\"text-align: right;\">\n",
       "      <th></th>\n",
       "      <th>Rank</th>\n",
       "      <th>Cores</th>\n",
       "      <th>Rmax</th>\n",
       "      <th>Rpeak</th>\n",
       "      <th>Power</th>\n",
       "    </tr>\n",
       "  </thead>\n",
       "  <tbody>\n",
       "    <tr>\n",
       "      <th>count</th>\n",
       "      <td>344.000000</td>\n",
       "      <td>3.440000e+02</td>\n",
       "      <td>344.000000</td>\n",
       "      <td>344.000000</td>\n",
       "      <td>104.000000</td>\n",
       "    </tr>\n",
       "    <tr>\n",
       "      <th>mean</th>\n",
       "      <td>261.436047</td>\n",
       "      <td>1.715654e+05</td>\n",
       "      <td>5891.918023</td>\n",
       "      <td>9477.914826</td>\n",
       "      <td>2219.855769</td>\n",
       "    </tr>\n",
       "    <tr>\n",
       "      <th>std</th>\n",
       "      <td>135.025304</td>\n",
       "      <td>7.748726e+05</td>\n",
       "      <td>26573.425124</td>\n",
       "      <td>33583.894117</td>\n",
       "      <td>4187.413328</td>\n",
       "    </tr>\n",
       "    <tr>\n",
       "      <th>min</th>\n",
       "      <td>1.000000</td>\n",
       "      <td>1.664000e+03</td>\n",
       "      <td>1511.000000</td>\n",
       "      <td>1792.600000</td>\n",
       "      <td>61.000000</td>\n",
       "    </tr>\n",
       "    <tr>\n",
       "      <th>25%</th>\n",
       "      <td>160.750000</td>\n",
       "      <td>4.716000e+04</td>\n",
       "      <td>1685.925000</td>\n",
       "      <td>2987.125000</td>\n",
       "      <td>567.250000</td>\n",
       "    </tr>\n",
       "    <tr>\n",
       "      <th>50%</th>\n",
       "      <td>269.500000</td>\n",
       "      <td>5.760000e+04</td>\n",
       "      <td>2074.500000</td>\n",
       "      <td>4056.000000</td>\n",
       "      <td>958.000000</td>\n",
       "    </tr>\n",
       "    <tr>\n",
       "      <th>75%</th>\n",
       "      <td>368.250000</td>\n",
       "      <td>8.900000e+04</td>\n",
       "      <td>2743.375000</td>\n",
       "      <td>5495.025000</td>\n",
       "      <td>1499.000000</td>\n",
       "    </tr>\n",
       "    <tr>\n",
       "      <th>max</th>\n",
       "      <td>500.000000</td>\n",
       "      <td>1.064960e+07</td>\n",
       "      <td>442010.000000</td>\n",
       "      <td>537212.000000</td>\n",
       "      <td>29899.000000</td>\n",
       "    </tr>\n",
       "  </tbody>\n",
       "</table>\n",
       "</div>"
      ],
      "text/plain": [
       "             Rank         Cores           Rmax          Rpeak         Power\n",
       "count  344.000000  3.440000e+02     344.000000     344.000000    104.000000\n",
       "mean   261.436047  1.715654e+05    5891.918023    9477.914826   2219.855769\n",
       "std    135.025304  7.748726e+05   26573.425124   33583.894117   4187.413328\n",
       "min      1.000000  1.664000e+03    1511.000000    1792.600000     61.000000\n",
       "25%    160.750000  4.716000e+04    1685.925000    2987.125000    567.250000\n",
       "50%    269.500000  5.760000e+04    2074.500000    4056.000000    958.000000\n",
       "75%    368.250000  8.900000e+04    2743.375000    5495.025000   1499.000000\n",
       "max    500.000000  1.064960e+07  442010.000000  537212.000000  29899.000000"
      ]
     },
     "execution_count": 134,
     "metadata": {},
     "output_type": "execute_result"
    }
   ],
   "source": [
    "#Summary stats\n",
    "new_data.describe()"
   ]
  },
  {
   "cell_type": "code",
   "execution_count": 135,
   "id": "ad130288",
   "metadata": {},
   "outputs": [],
   "source": [
    "#Grouping countries\n",
    "grouped_df = new_data.groupby(\"Country\")"
   ]
  },
  {
   "cell_type": "code",
   "execution_count": 136,
   "id": "2188c701",
   "metadata": {},
   "outputs": [
    {
     "data": {
      "text/html": [
       "<div>\n",
       "<style scoped>\n",
       "    .dataframe tbody tr th:only-of-type {\n",
       "        vertical-align: middle;\n",
       "    }\n",
       "\n",
       "    .dataframe tbody tr th {\n",
       "        vertical-align: top;\n",
       "    }\n",
       "\n",
       "    .dataframe thead th {\n",
       "        text-align: right;\n",
       "    }\n",
       "</style>\n",
       "<table border=\"1\" class=\"dataframe\">\n",
       "  <thead>\n",
       "    <tr style=\"text-align: right;\">\n",
       "      <th></th>\n",
       "      <th>Country</th>\n",
       "      <th>Rank</th>\n",
       "      <th>System</th>\n",
       "      <th>Cores</th>\n",
       "      <th>Rmax</th>\n",
       "      <th>Rpeak</th>\n",
       "      <th>Power</th>\n",
       "    </tr>\n",
       "  </thead>\n",
       "  <tbody>\n",
       "    <tr>\n",
       "      <th>0</th>\n",
       "      <td>China</td>\n",
       "      <td>500</td>\n",
       "      <td>ThinkSystem SR650 Xeon Gold 6248 20C 2.5GHz 2...</td>\n",
       "      <td>10649600.0</td>\n",
       "      <td>93014.6</td>\n",
       "      <td>125435.9</td>\n",
       "      <td>18482.0</td>\n",
       "    </tr>\n",
       "    <tr>\n",
       "      <th>1</th>\n",
       "      <td>Japan</td>\n",
       "      <td>485</td>\n",
       "      <td>PRIMERGY CX2550 M4 Xeon Gold 6248 20C 2.5GHz ...</td>\n",
       "      <td>7630848.0</td>\n",
       "      <td>442010.0</td>\n",
       "      <td>537212.0</td>\n",
       "      <td>29899.0</td>\n",
       "    </tr>\n",
       "    <tr>\n",
       "      <th>2</th>\n",
       "      <td>United States</td>\n",
       "      <td>497</td>\n",
       "      <td>Power 775 POWER7 8C 3.836GHz Custom Interconn...</td>\n",
       "      <td>2414592.0</td>\n",
       "      <td>148600.0</td>\n",
       "      <td>200794.9</td>\n",
       "      <td>13620.0</td>\n",
       "    </tr>\n",
       "  </tbody>\n",
       "</table>\n",
       "</div>"
      ],
      "text/plain": [
       "         Country  Rank                                             System  \\\n",
       "0          China   500   ThinkSystem SR650 Xeon Gold 6248 20C 2.5GHz 2...   \n",
       "1          Japan   485   PRIMERGY CX2550 M4 Xeon Gold 6248 20C 2.5GHz ...   \n",
       "2  United States   497   Power 775 POWER7 8C 3.836GHz Custom Interconn...   \n",
       "\n",
       "        Cores      Rmax     Rpeak    Power  \n",
       "0  10649600.0   93014.6  125435.9  18482.0  \n",
       "1   7630848.0  442010.0  537212.0  29899.0  \n",
       "2   2414592.0  148600.0  200794.9  13620.0  "
      ]
     },
     "execution_count": 136,
     "metadata": {},
     "output_type": "execute_result"
    }
   ],
   "source": [
    "#Get max values for all categories for each country\n",
    "maximums = grouped_df.max()\n",
    "maximums = maximums.reset_index()\n",
    "maximums"
   ]
  },
  {
   "cell_type": "code",
   "execution_count": 138,
   "id": "b22905cf",
   "metadata": {},
   "outputs": [
    {
     "data": {
      "text/html": [
       "<div>\n",
       "<style scoped>\n",
       "    .dataframe tbody tr th:only-of-type {\n",
       "        vertical-align: middle;\n",
       "    }\n",
       "\n",
       "    .dataframe tbody tr th {\n",
       "        vertical-align: top;\n",
       "    }\n",
       "\n",
       "    .dataframe thead th {\n",
       "        text-align: right;\n",
       "    }\n",
       "</style>\n",
       "<table border=\"1\" class=\"dataframe\">\n",
       "  <thead>\n",
       "    <tr style=\"text-align: right;\">\n",
       "      <th></th>\n",
       "      <th>Country</th>\n",
       "      <th>Cores</th>\n",
       "    </tr>\n",
       "  </thead>\n",
       "  <tbody>\n",
       "    <tr>\n",
       "      <th>0</th>\n",
       "      <td>China</td>\n",
       "      <td>10649600.0</td>\n",
       "    </tr>\n",
       "    <tr>\n",
       "      <th>1</th>\n",
       "      <td>Japan</td>\n",
       "      <td>7630848.0</td>\n",
       "    </tr>\n",
       "    <tr>\n",
       "      <th>2</th>\n",
       "      <td>United States</td>\n",
       "      <td>2414592.0</td>\n",
       "    </tr>\n",
       "  </tbody>\n",
       "</table>\n",
       "</div>"
      ],
      "text/plain": [
       "         Country       Cores\n",
       "0          China  10649600.0\n",
       "1          Japan   7630848.0\n",
       "2  United States   2414592.0"
      ]
     },
     "execution_count": 138,
     "metadata": {},
     "output_type": "execute_result"
    }
   ],
   "source": [
    "#Getting country with the highest Cores\n",
    "maximums[['Country','Cores']].sort_values('Cores',ascending=False)"
   ]
  },
  {
   "cell_type": "code",
   "execution_count": 139,
   "id": "50bee9ac",
   "metadata": {},
   "outputs": [
    {
     "data": {
      "text/html": [
       "<div>\n",
       "<style scoped>\n",
       "    .dataframe tbody tr th:only-of-type {\n",
       "        vertical-align: middle;\n",
       "    }\n",
       "\n",
       "    .dataframe tbody tr th {\n",
       "        vertical-align: top;\n",
       "    }\n",
       "\n",
       "    .dataframe thead th {\n",
       "        text-align: right;\n",
       "    }\n",
       "</style>\n",
       "<table border=\"1\" class=\"dataframe\">\n",
       "  <thead>\n",
       "    <tr style=\"text-align: right;\">\n",
       "      <th></th>\n",
       "      <th>Country</th>\n",
       "      <th>Rpeak</th>\n",
       "    </tr>\n",
       "  </thead>\n",
       "  <tbody>\n",
       "    <tr>\n",
       "      <th>1</th>\n",
       "      <td>Japan</td>\n",
       "      <td>537212.0</td>\n",
       "    </tr>\n",
       "    <tr>\n",
       "      <th>2</th>\n",
       "      <td>United States</td>\n",
       "      <td>200794.9</td>\n",
       "    </tr>\n",
       "    <tr>\n",
       "      <th>0</th>\n",
       "      <td>China</td>\n",
       "      <td>125435.9</td>\n",
       "    </tr>\n",
       "  </tbody>\n",
       "</table>\n",
       "</div>"
      ],
      "text/plain": [
       "         Country     Rpeak\n",
       "1          Japan  537212.0\n",
       "2  United States  200794.9\n",
       "0          China  125435.9"
      ]
     },
     "execution_count": 139,
     "metadata": {},
     "output_type": "execute_result"
    }
   ],
   "source": [
    "#Getting country with the highest Rpeak\n",
    "maximums[['Country','Rpeak']].sort_values('Rpeak',ascending=False)"
   ]
  },
  {
   "cell_type": "code",
   "execution_count": 140,
   "id": "f9057bb4",
   "metadata": {},
   "outputs": [
    {
     "data": {
      "text/html": [
       "<div>\n",
       "<style scoped>\n",
       "    .dataframe tbody tr th:only-of-type {\n",
       "        vertical-align: middle;\n",
       "    }\n",
       "\n",
       "    .dataframe tbody tr th {\n",
       "        vertical-align: top;\n",
       "    }\n",
       "\n",
       "    .dataframe thead th {\n",
       "        text-align: right;\n",
       "    }\n",
       "</style>\n",
       "<table border=\"1\" class=\"dataframe\">\n",
       "  <thead>\n",
       "    <tr style=\"text-align: right;\">\n",
       "      <th></th>\n",
       "      <th>Country</th>\n",
       "      <th>Power</th>\n",
       "    </tr>\n",
       "  </thead>\n",
       "  <tbody>\n",
       "    <tr>\n",
       "      <th>1</th>\n",
       "      <td>Japan</td>\n",
       "      <td>29899.0</td>\n",
       "    </tr>\n",
       "    <tr>\n",
       "      <th>0</th>\n",
       "      <td>China</td>\n",
       "      <td>18482.0</td>\n",
       "    </tr>\n",
       "    <tr>\n",
       "      <th>2</th>\n",
       "      <td>United States</td>\n",
       "      <td>13620.0</td>\n",
       "    </tr>\n",
       "  </tbody>\n",
       "</table>\n",
       "</div>"
      ],
      "text/plain": [
       "         Country    Power\n",
       "1          Japan  29899.0\n",
       "0          China  18482.0\n",
       "2  United States  13620.0"
      ]
     },
     "execution_count": 140,
     "metadata": {},
     "output_type": "execute_result"
    }
   ],
   "source": [
    "#Getting country with the highest Power\n",
    "maximums[['Country','Power']].sort_values('Power',ascending=False)"
   ]
  },
  {
   "cell_type": "code",
   "execution_count": 141,
   "id": "080ef019",
   "metadata": {},
   "outputs": [
    {
     "data": {
      "text/html": [
       "<div>\n",
       "<style scoped>\n",
       "    .dataframe tbody tr th:only-of-type {\n",
       "        vertical-align: middle;\n",
       "    }\n",
       "\n",
       "    .dataframe tbody tr th {\n",
       "        vertical-align: top;\n",
       "    }\n",
       "\n",
       "    .dataframe thead th {\n",
       "        text-align: right;\n",
       "    }\n",
       "</style>\n",
       "<table border=\"1\" class=\"dataframe\">\n",
       "  <thead>\n",
       "    <tr style=\"text-align: right;\">\n",
       "      <th></th>\n",
       "      <th>Country</th>\n",
       "      <th>Rank</th>\n",
       "    </tr>\n",
       "  </thead>\n",
       "  <tbody>\n",
       "    <tr>\n",
       "      <th>1</th>\n",
       "      <td>Japan</td>\n",
       "      <td>1</td>\n",
       "    </tr>\n",
       "    <tr>\n",
       "      <th>2</th>\n",
       "      <td>United States</td>\n",
       "      <td>2</td>\n",
       "    </tr>\n",
       "    <tr>\n",
       "      <th>0</th>\n",
       "      <td>China</td>\n",
       "      <td>4</td>\n",
       "    </tr>\n",
       "  </tbody>\n",
       "</table>\n",
       "</div>"
      ],
      "text/plain": [
       "         Country  Rank\n",
       "1          Japan     1\n",
       "2  United States     2\n",
       "0          China     4"
      ]
     },
     "execution_count": 141,
     "metadata": {},
     "output_type": "execute_result"
    }
   ],
   "source": [
    "#Getting min values to get the top ranks for each country\n",
    "minimums = grouped_df.min()\n",
    "minimums = minimums.reset_index()\n",
    "minimums[['Country','Rank']].sort_values('Rank')"
   ]
  },
  {
   "cell_type": "code",
   "execution_count": 150,
   "id": "fdea8f9c",
   "metadata": {},
   "outputs": [
    {
     "data": {
      "image/png": "[encoded data removed]",
      "text/plain": [
       "<Figure size 792x360 with 3 Axes>"
      ]
     },
     "metadata": {
      "needs_background": "light"
     },
     "output_type": "display_data"
    }
   ],
   "source": [
    "#Visualising the stats for countries in Cores, Rpeak and Power \n",
    "plt.figure(figsize=(11, 5))\n",
    "\n",
    "\n",
    "plt.subplot(131)\n",
    "plt.bar(maximums['Country'],maximums['Cores'])\n",
    "plt.title('Country wise Cores')\n",
    "plt.subplot(132)\n",
    "plt.bar(maximums['Country'],maximums['Rpeak'])\n",
    "plt.title('Country wise Rpeak')\n",
    "plt.subplot(133)\n",
    "plt.bar(maximums['Country'],maximums['Power'])\n",
    "plt.title('Country wise Power')\n",
    "plt.tight_layout(pad=3.0)\n",
    "plt.show()"
   ]
  },
  {
   "cell_type": "code",
   "execution_count": 155,
   "id": "2d57388a",
   "metadata": {},
   "outputs": [
    {
     "data": {
      "text/plain": [
       "<AxesSubplot:xlabel='Country', ylabel='Rank'>"
      ]
     },
     "execution_count": 155,
     "metadata": {},
     "output_type": "execute_result"
    },
    {
     "data": {
      "image/png": "[encoded data removed]",
      "text/plain": [
       "<Figure size 432x288 with 1 Axes>"
      ]
     },
     "metadata": {
      "needs_background": "light"
     },
     "output_type": "display_data"
    }
   ],
   "source": [
    "#Visulalising Rank\n",
    "sns.barplot(x ='Country', y ='Rank', data = minimums,color='b')"
   ]
  },
  {
   "cell_type": "code",
   "execution_count": 178,
   "id": "123b7bda",
   "metadata": {},
   "outputs": [
    {
     "data": {
      "text/plain": [
       " Xeon E5-2673v4 20C 2.3GHz    44\n",
       "Name: System, dtype: int64"
      ]
     },
     "execution_count": 178,
     "metadata": {},
     "output_type": "execute_result"
    }
   ],
   "source": [
    "#US Processor being frequently used\n",
    "USprocessors= pd.DataFrame(df2[df2['Country']=='United States']['System'].str.rstrip(',').str.split(',').str[1])\n",
    "USprocessors['System'].value_counts().nlargest(1)"
   ]
  },
  {
   "cell_type": "code",
   "execution_count": 179,
   "id": "8eab4c7f",
   "metadata": {},
   "outputs": [
    {
     "data": {
      "text/plain": [
       " Xeon Gold 6148 20C 2.4GHz    5\n",
       "Name: System, dtype: int64"
      ]
     },
     "execution_count": 179,
     "metadata": {},
     "output_type": "execute_result"
    }
   ],
   "source": [
    "#Japan Processor being frequently used\n",
    "Japanprocessors= pd.DataFrame(df2[df2['Country']=='Japan']['System'].str.rstrip(',').str.split(',').str[1])\n",
    "Japanprocessors['System'].value_counts().nlargest(1)"
   ]
  },
  {
   "cell_type": "code",
   "execution_count": 180,
   "id": "c4e4966f",
   "metadata": {},
   "outputs": [
    {
     "data": {
      "text/plain": [
       " Xeon Gold 6133 20C 2.5GHz    27\n",
       "Name: System, dtype: int64"
      ]
     },
     "execution_count": 180,
     "metadata": {},
     "output_type": "execute_result"
    }
   ],
   "source": [
    "#China Processor being frequently used\n",
    "Chinaprocessors= pd.DataFrame(df2[df2['Country']=='China']['System'].str.rstrip(',').str.split(',').str[1])\n",
    "Chinaprocessors['System'].value_counts().nlargest(1)"
   ]
  }
 ],
 "metadata": {
  "kernelspec": {
   "display_name": "Python 3",
   "language": "python",
   "name": "python3"
  },
  "language_info": {
   "codemirror_mode": {
    "name": "ipython",
    "version": 3
   },
   "file_extension": ".py",
   "mimetype": "text/x-python",
   "name": "python",
   "nbconvert_exporter": "python",
   "pygments_lexer": "ipython3",
   "version": "3.8.8"
  }
 },
 "nbformat": 4,
 "nbformat_minor": 5
}
